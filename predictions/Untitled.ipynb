{
 "cells": [
  {
   "cell_type": "code",
   "execution_count": 1,
   "id": "a55a0f0e",
   "metadata": {},
   "outputs": [],
   "source": [
    "import pandas as pd"
   ]
  },
  {
   "cell_type": "code",
   "execution_count": 2,
   "id": "97bbfdc0",
   "metadata": {},
   "outputs": [
    {
     "data": {
      "text/html": [
       "<div>\n",
       "<style scoped>\n",
       "    .dataframe tbody tr th:only-of-type {\n",
       "        vertical-align: middle;\n",
       "    }\n",
       "\n",
       "    .dataframe tbody tr th {\n",
       "        vertical-align: top;\n",
       "    }\n",
       "\n",
       "    .dataframe thead th {\n",
       "        text-align: right;\n",
       "    }\n",
       "</style>\n",
       "<table border=\"1\" class=\"dataframe\">\n",
       "  <thead>\n",
       "    <tr style=\"text-align: right;\">\n",
       "      <th></th>\n",
       "      <th>&lt;!doctype html&gt;&lt;html lang=\"en\"&gt;&lt;head&gt; &lt;title data-react-helmet=\"true\"&gt;data.world&lt;/title&gt;    &lt;meta charset=\"utf-8\"&gt;&lt;meta name=\"viewport\" content=\"width=device-width</th>\n",
       "      <th>initial-scale=1\"&gt;&lt;meta name=\"referrer\" content=\"origin-when-cross-origin\"&gt;&lt;meta name=\"og:image\" content=\"https://d2ogkq1rg66kh0.cloudfront.net/site-resources/images/fb-image-share.3a87a6eb.png\"&gt;&lt;meta name=\"og:site_name\" content=\"data.world\"&gt;&lt;meta name=\"twitter:card\" content=\"summary\"&gt;&lt;meta name=\"twitter:site\" content=\"@datadotworld\"&gt;&lt;meta property=\"fb:app_id\" content=\"776416075825233\"&gt;&lt;link rel=\"preconnect\" href=\"https://fonts.googleapis.com\"&gt;&lt;link rel=\"preconnect\" href=\"https://fonts.gstatic.com\" crossorigin&gt;&lt;link rel=\"stylesheet\" href=\"https://fonts.googleapis.com/css2?family=Inconsolata:wght@400;700&amp;family=Lato:ital</th>\n",
       "      <th>wght@0</th>\n",
       "      <th>300;0</th>\n",
       "      <th>400;0</th>\n",
       "      <th>700;1</th>\n",
       "      <th>300;1</th>\n",
       "      <th>400;1</th>\n",
       "      <th>700&amp;family=Poppins:ital</th>\n",
       "      <th>wght@0.1</th>\n",
       "      <th>...</th>\n",
       "      <th>required:false</th>\n",
       "      <th>readOnly:false</th>\n",
       "      <th>showOptionalFlag:true</th>\n",
       "      <th>type:\"email\"}</th>\n",
       "      <th>{\"label\":\"Message\"</th>\n",
       "      <th>placeholder:\"Share what you would like to do with this dataset\".1</th>\n",
       "      <th>required:true.2</th>\n",
       "      <th>readOnly:false.1</th>\n",
       "      <th>showOptionalFlag:false.1</th>\n",
       "      <th>type:\"textarea\"}]}&lt;/script&gt;&lt;script type=\"application/json\" id=\"init-analytics\"&gt;{\"siteId\":\"00000\"}&lt;/script&gt;&lt;script src=\"https://js.stripe.com/v3/\" async id=\"stripe-js\"&gt;&lt;/script&gt;  &lt;script type=\"text/javascript\" src=\"https://assets.data.world/js/runtime.211a2014308995695256.js\"&gt;&lt;/script&gt;&lt;script type=\"text/javascript\" src=\"https://assets.data.world/js/vendors~RichTextEditor~vendors.aa3f2ab705b7d342a5bf.js\"&gt;&lt;/script&gt;&lt;script type=\"text/javascript\" src=\"https://assets.data.world/js/vendors~app.cf6094b6c7ba11785f83.js\"&gt;&lt;/script&gt;&lt;script type=\"text/javascript\" src=\"https://assets.data.world/js/vendors~app~vendors.f727aa27182d16e07253.js\"&gt;&lt;/script&gt;&lt;script type=\"text/javascript\" src=\"https://assets.data.world/js/vendors.8c381e54bb1422c3f862.js\"&gt;&lt;/script&gt;&lt;script type=\"text/javascript\" src=\"https://assets.data.world/js/app.31fd99c949d335089eb8.js\"&gt;&lt;/script&gt;&lt;/body&gt;&lt;/html&gt;</th>\n",
       "    </tr>\n",
       "  </thead>\n",
       "  <tbody>\n",
       "  </tbody>\n",
       "</table>\n",
       "<p>0 rows × 736 columns</p>\n",
       "</div>"
      ],
      "text/plain": [
       "Empty DataFrame\n",
       "Columns: [<!doctype html><html lang=\"en\"><head> <title data-react-helmet=\"true\">data.world</title>    <meta charset=\"utf-8\"><meta name=\"viewport\" content=\"width=device-width, initial-scale=1\"><meta name=\"referrer\" content=\"origin-when-cross-origin\"><meta name=\"og:image\" content=\"https://d2ogkq1rg66kh0.cloudfront.net/site-resources/images/fb-image-share.3a87a6eb.png\"><meta name=\"og:site_name\" content=\"data.world\"><meta name=\"twitter:card\" content=\"summary\"><meta name=\"twitter:site\" content=\"@datadotworld\"><meta property=\"fb:app_id\" content=\"776416075825233\"><link rel=\"preconnect\" href=\"https://fonts.googleapis.com\"><link rel=\"preconnect\" href=\"https://fonts.gstatic.com\" crossorigin><link rel=\"stylesheet\" href=\"https://fonts.googleapis.com/css2?family=Inconsolata:wght@400;700&family=Lato:ital, wght@0, 300;0, 400;0, 700;1, 300;1, 400;1, 700&family=Poppins:ital, wght@0.1, 200;0, 300;0.1, 400;0.1, 600;1, 300;1.1, 400;1.1, 600&family=Figtree:ital, wght@0.2, 200;0.1, 400;0.2, 500;0, 600;1.1, 200;1, 400;1.2, 600&display=swap\"><link rel=\"search\" href=\"/opensearch.xml\" type=\"application/opensearchdescription+xml\" title=\"data.world\"><link rel=\"stylesheet\" type=\"text/css\" href=\"/api/theme.css\">  <link rel=\"apple-touch-icon\" sizes=\"57x57\" href=\"https://assets.data.world/icons-d1940ad25da01d05b8f27389101617c1/apple-touch-icon-57x57.png\"><link rel=\"apple-touch-icon\" sizes=\"60x60\" href=\"https://assets.data.world/icons-d1940ad25da01d05b8f27389101617c1/apple-touch-icon-60x60.png\"><link rel=\"apple-touch-icon\" sizes=\"72x72\" href=\"https://assets.data.world/icons-d1940ad25da01d05b8f27389101617c1/apple-touch-icon-72x72.png\"><link rel=\"apple-touch-icon\" sizes=\"76x76\" href=\"https://assets.data.world/icons-d1940ad25da01d05b8f27389101617c1/apple-touch-icon-76x76.png\"><link rel=\"apple-touch-icon\" sizes=\"114x114\" href=\"https://assets.data.world/icons-d1940ad25da01d05b8f27389101617c1/apple-touch-icon-114x114.png\"><link rel=\"apple-touch-icon\" sizes=\"120x120\" href=\"https://assets.data.world/icons-d1940ad25da01d05b8f27389101617c1/apple-touch-icon-120x120.png\"><link rel=\"apple-touch-icon\" sizes=\"144x144\" href=\"https://assets.data.world/icons-d1940ad25da01d05b8f27389101617c1/apple-touch-icon-144x144.png\"><link rel=\"apple-touch-icon\" sizes=\"152x152\" href=\"https://assets.data.world/icons-d1940ad25da01d05b8f27389101617c1/apple-touch-icon-152x152.png\"><link rel=\"apple-touch-icon\" sizes=\"180x180\" href=\"https://assets.data.world/icons-d1940ad25da01d05b8f27389101617c1/apple-touch-icon-180x180.png\"><meta name=\"apple-mobile-web-app-capable\" content=\"yes\"><meta name=\"apple-mobile-web-app-status-bar-style\" content=\"black-translucent\"><meta name=\"apple-mobile-web-app-title\" content=\"data.world\"><meta name=\"mobile-web-app-capable\" content=\"yes\"><meta name=\"theme-color\" content=\"#fff\"><meta name=\"application-name\" content=\"data.world\"><link rel=\"icon\" type=\"image/png\" sizes=\"32x32\" href=\"https://assets.data.world/icons-d1940ad25da01d05b8f27389101617c1/favicon-32x32.png\"><link rel=\"icon\" type=\"image/png\" sizes=\"16x16\" href=\"https://assets.data.world/icons-d1940ad25da01d05b8f27389101617c1/favicon-16x16.png\"><link rel=\"shortcut icon\" href=\"https://assets.data.world/icons-d1940ad25da01d05b8f27389101617c1/favicon.ico\"><link href=\"https://assets.data.world/css/vendors~app.439dd11dcda45522b98e.css\" rel=\"stylesheet\"><link href=\"https://assets.data.world/css/vendors~app~vendors.bc998e9fd952b1e6d8c4.css\" rel=\"stylesheet\"><link href=\"https://assets.data.world/css/vendors.db9ec7b6e23c444e5114.css\" rel=\"stylesheet\"><link href=\"https://assets.data.world/css/app.2c2473d23e0a419cec7b.css\" rel=\"stylesheet\"></head><body ><div id=\"root\"><div class=\"CoreLayout__enabledGlobalNav___3EWlO page-container modern-theme-opt-in CoreLayout__embed___1fxWq\"><div class=\"Navigation__collapsedBrand___3mzrI\"><a style=\"top:0px\" href=\"/\"><img itemProp=\"image\" src=\"https://assets.data.world/assets/logo-sparkle-noscircle.befdc9e044ded0c2756c24b3bff43b1c.png\" alt=\"data.world\" class=\"Navigation__logo___3Vd9O\"/></a></div><nav class=\"Navigation__navBar___1bgUk Navigation__fixedLeft___fZ2js Navigation__closed___1hrH9\" style=\"top:56px\"></nav><div class=\"view-container\"><div class=\"LoadingAnimation__loaderOverlay___2zSul LoadingAnimation__default___KhFF6\" data-dw=\"LoadingAnimation\"><div class=\"LoadingAnimation__loaderContainer___2arLY\"><div class=\"LoadingAnimation__spinner___2qQFp\">Loading...</div></div></div></div></div></div><script type=\"application/json\" id=\"init-data\">{\"catalog\":{\"loadedResources\":{}, hoots:{}}, clients:{}, currentUser:{\"profile\":{\"abTests\":{\"buckets\":{\"searchUiTheme\":{\"name\":\"modern\", value:1}, uiTheme:{\"name\":\"modern\", value:1}.1, sqlQuery:{\"name\":\"presto\", value:4}, sqlAlgebra:{\"name\":\"preferLegacy\", value:2}, coreLayoutRefactor:{\"name\":\"active\", value:1}.2, loadInstanceConfig:{\"name\":\"load-instance-config\", value:1}}}, accountStanding:\"good\", activeSubscriptionid:\"\", agentid:\"\", authorizationLevels:{\"org\":\"READ\", allCatalogs:\"NONE\", dataLibrary:\"NONE\"}, avatarUrl:\"\", bio:\"\", catalogStatistics:{\"analysesCount\":0, datasetsCount:0, dataTypesCount:0, glossaryCount:0, projectsCount:0, tablesCount:0}, displayName:\"\", email:\"\", created:\"\", company:\"\", emailVerified:true, location:\"\", numFollowers:0, numFollowing:0, numOrganizations:0, orgMode:false, orgDetails:null, orgPreferences:null, relationship:{\"member\":false, followed:false}, staticGrants:{\"aiceAnswerAgentEnabled\":false, businessGlossaryEnabled:false, hootsEnabled:false, lineageEnabled:false, metadataCatalogEnabled:false, nativeLineageEnabled:false, personalDatasetsDisabled:false, preventGuestAuthorizations:false, preventGuestUserInvite:false, preventOpenDatasets:false, preventSignedShareUrls:false, samlAllowed:false, thirdPartyAiEnabled:false}, scimDetails:null, scimManaged:false, tags:[], updated:\"\", userCapabilities:{\"canBulkEditAllMetadataResources\":false, canCreateCollections:false, canCreateDataResources:false, canCreateMetadataResources:false, canDebugMetadataProfile:false, canEditAllDatasetMetadata:false, canManageAllCollectionAccess:false, canManageAllCollectionHierarchy:false, canManageAllDataResources:false, canManageAllHoots:false, canManageOrgAccess:false, canManageOrgAutomations:false, canManageOrgConnections:false, canManageOrgConnectionTasks:false, canManageOrgSettings:false, canManageOrgSubscription:false, ...]\n",
       "Index: []\n",
       "\n",
       "[0 rows x 736 columns]"
      ]
     },
     "execution_count": 2,
     "metadata": {},
     "output_type": "execute_result"
    }
   ],
   "source": [
    "pd.read_csv('https://data.world/new-york-city/yellow-tripdata-december-2017/file/yellow_tripdata_2017-12.csv')"
   ]
  },
  {
   "cell_type": "code",
   "execution_count": 3,
   "id": "743ee114",
   "metadata": {},
   "outputs": [
    {
     "ename": "FileNotFoundError",
     "evalue": "[Errno 2] No such file or directory: './data/yellow_tripdata_2017-12.csv'",
     "output_type": "error",
     "traceback": [
      "\u001b[0;31m---------------------------------------------------------------------------\u001b[0m",
      "\u001b[0;31mFileNotFoundError\u001b[0m                         Traceback (most recent call last)",
      "Input \u001b[0;32mIn [3]\u001b[0m, in \u001b[0;36m<cell line: 1>\u001b[0;34m()\u001b[0m\n\u001b[0;32m----> 1\u001b[0m \u001b[43mpd\u001b[49m\u001b[38;5;241;43m.\u001b[39;49m\u001b[43mread_csv\u001b[49m\u001b[43m(\u001b[49m\u001b[38;5;124;43m'\u001b[39;49m\u001b[38;5;124;43m./data/yellow_tripdata_2017-12.csv\u001b[39;49m\u001b[38;5;124;43m'\u001b[39;49m\u001b[43m)\u001b[49m\n",
      "File \u001b[0;32m~/anaconda3/lib/python3.9/site-packages/pandas/util/_decorators.py:311\u001b[0m, in \u001b[0;36mdeprecate_nonkeyword_arguments.<locals>.decorate.<locals>.wrapper\u001b[0;34m(*args, **kwargs)\u001b[0m\n\u001b[1;32m    305\u001b[0m \u001b[38;5;28;01mif\u001b[39;00m \u001b[38;5;28mlen\u001b[39m(args) \u001b[38;5;241m>\u001b[39m num_allow_args:\n\u001b[1;32m    306\u001b[0m     warnings\u001b[38;5;241m.\u001b[39mwarn(\n\u001b[1;32m    307\u001b[0m         msg\u001b[38;5;241m.\u001b[39mformat(arguments\u001b[38;5;241m=\u001b[39marguments),\n\u001b[1;32m    308\u001b[0m         \u001b[38;5;167;01mFutureWarning\u001b[39;00m,\n\u001b[1;32m    309\u001b[0m         stacklevel\u001b[38;5;241m=\u001b[39mstacklevel,\n\u001b[1;32m    310\u001b[0m     )\n\u001b[0;32m--> 311\u001b[0m \u001b[38;5;28;01mreturn\u001b[39;00m \u001b[43mfunc\u001b[49m\u001b[43m(\u001b[49m\u001b[38;5;241;43m*\u001b[39;49m\u001b[43margs\u001b[49m\u001b[43m,\u001b[49m\u001b[43m \u001b[49m\u001b[38;5;241;43m*\u001b[39;49m\u001b[38;5;241;43m*\u001b[39;49m\u001b[43mkwargs\u001b[49m\u001b[43m)\u001b[49m\n",
      "File \u001b[0;32m~/anaconda3/lib/python3.9/site-packages/pandas/io/parsers/readers.py:680\u001b[0m, in \u001b[0;36mread_csv\u001b[0;34m(filepath_or_buffer, sep, delimiter, header, names, index_col, usecols, squeeze, prefix, mangle_dupe_cols, dtype, engine, converters, true_values, false_values, skipinitialspace, skiprows, skipfooter, nrows, na_values, keep_default_na, na_filter, verbose, skip_blank_lines, parse_dates, infer_datetime_format, keep_date_col, date_parser, dayfirst, cache_dates, iterator, chunksize, compression, thousands, decimal, lineterminator, quotechar, quoting, doublequote, escapechar, comment, encoding, encoding_errors, dialect, error_bad_lines, warn_bad_lines, on_bad_lines, delim_whitespace, low_memory, memory_map, float_precision, storage_options)\u001b[0m\n\u001b[1;32m    665\u001b[0m kwds_defaults \u001b[38;5;241m=\u001b[39m _refine_defaults_read(\n\u001b[1;32m    666\u001b[0m     dialect,\n\u001b[1;32m    667\u001b[0m     delimiter,\n\u001b[0;32m   (...)\u001b[0m\n\u001b[1;32m    676\u001b[0m     defaults\u001b[38;5;241m=\u001b[39m{\u001b[38;5;124m\"\u001b[39m\u001b[38;5;124mdelimiter\u001b[39m\u001b[38;5;124m\"\u001b[39m: \u001b[38;5;124m\"\u001b[39m\u001b[38;5;124m,\u001b[39m\u001b[38;5;124m\"\u001b[39m},\n\u001b[1;32m    677\u001b[0m )\n\u001b[1;32m    678\u001b[0m kwds\u001b[38;5;241m.\u001b[39mupdate(kwds_defaults)\n\u001b[0;32m--> 680\u001b[0m \u001b[38;5;28;01mreturn\u001b[39;00m \u001b[43m_read\u001b[49m\u001b[43m(\u001b[49m\u001b[43mfilepath_or_buffer\u001b[49m\u001b[43m,\u001b[49m\u001b[43m \u001b[49m\u001b[43mkwds\u001b[49m\u001b[43m)\u001b[49m\n",
      "File \u001b[0;32m~/anaconda3/lib/python3.9/site-packages/pandas/io/parsers/readers.py:575\u001b[0m, in \u001b[0;36m_read\u001b[0;34m(filepath_or_buffer, kwds)\u001b[0m\n\u001b[1;32m    572\u001b[0m _validate_names(kwds\u001b[38;5;241m.\u001b[39mget(\u001b[38;5;124m\"\u001b[39m\u001b[38;5;124mnames\u001b[39m\u001b[38;5;124m\"\u001b[39m, \u001b[38;5;28;01mNone\u001b[39;00m))\n\u001b[1;32m    574\u001b[0m \u001b[38;5;66;03m# Create the parser.\u001b[39;00m\n\u001b[0;32m--> 575\u001b[0m parser \u001b[38;5;241m=\u001b[39m \u001b[43mTextFileReader\u001b[49m\u001b[43m(\u001b[49m\u001b[43mfilepath_or_buffer\u001b[49m\u001b[43m,\u001b[49m\u001b[43m \u001b[49m\u001b[38;5;241;43m*\u001b[39;49m\u001b[38;5;241;43m*\u001b[39;49m\u001b[43mkwds\u001b[49m\u001b[43m)\u001b[49m\n\u001b[1;32m    577\u001b[0m \u001b[38;5;28;01mif\u001b[39;00m chunksize \u001b[38;5;129;01mor\u001b[39;00m iterator:\n\u001b[1;32m    578\u001b[0m     \u001b[38;5;28;01mreturn\u001b[39;00m parser\n",
      "File \u001b[0;32m~/anaconda3/lib/python3.9/site-packages/pandas/io/parsers/readers.py:933\u001b[0m, in \u001b[0;36mTextFileReader.__init__\u001b[0;34m(self, f, engine, **kwds)\u001b[0m\n\u001b[1;32m    930\u001b[0m     \u001b[38;5;28mself\u001b[39m\u001b[38;5;241m.\u001b[39moptions[\u001b[38;5;124m\"\u001b[39m\u001b[38;5;124mhas_index_names\u001b[39m\u001b[38;5;124m\"\u001b[39m] \u001b[38;5;241m=\u001b[39m kwds[\u001b[38;5;124m\"\u001b[39m\u001b[38;5;124mhas_index_names\u001b[39m\u001b[38;5;124m\"\u001b[39m]\n\u001b[1;32m    932\u001b[0m \u001b[38;5;28mself\u001b[39m\u001b[38;5;241m.\u001b[39mhandles: IOHandles \u001b[38;5;241m|\u001b[39m \u001b[38;5;28;01mNone\u001b[39;00m \u001b[38;5;241m=\u001b[39m \u001b[38;5;28;01mNone\u001b[39;00m\n\u001b[0;32m--> 933\u001b[0m \u001b[38;5;28mself\u001b[39m\u001b[38;5;241m.\u001b[39m_engine \u001b[38;5;241m=\u001b[39m \u001b[38;5;28;43mself\u001b[39;49m\u001b[38;5;241;43m.\u001b[39;49m\u001b[43m_make_engine\u001b[49m\u001b[43m(\u001b[49m\u001b[43mf\u001b[49m\u001b[43m,\u001b[49m\u001b[43m \u001b[49m\u001b[38;5;28;43mself\u001b[39;49m\u001b[38;5;241;43m.\u001b[39;49m\u001b[43mengine\u001b[49m\u001b[43m)\u001b[49m\n",
      "File \u001b[0;32m~/anaconda3/lib/python3.9/site-packages/pandas/io/parsers/readers.py:1217\u001b[0m, in \u001b[0;36mTextFileReader._make_engine\u001b[0;34m(self, f, engine)\u001b[0m\n\u001b[1;32m   1213\u001b[0m     mode \u001b[38;5;241m=\u001b[39m \u001b[38;5;124m\"\u001b[39m\u001b[38;5;124mrb\u001b[39m\u001b[38;5;124m\"\u001b[39m\n\u001b[1;32m   1214\u001b[0m \u001b[38;5;66;03m# error: No overload variant of \"get_handle\" matches argument types\u001b[39;00m\n\u001b[1;32m   1215\u001b[0m \u001b[38;5;66;03m# \"Union[str, PathLike[str], ReadCsvBuffer[bytes], ReadCsvBuffer[str]]\"\u001b[39;00m\n\u001b[1;32m   1216\u001b[0m \u001b[38;5;66;03m# , \"str\", \"bool\", \"Any\", \"Any\", \"Any\", \"Any\", \"Any\"\u001b[39;00m\n\u001b[0;32m-> 1217\u001b[0m \u001b[38;5;28mself\u001b[39m\u001b[38;5;241m.\u001b[39mhandles \u001b[38;5;241m=\u001b[39m \u001b[43mget_handle\u001b[49m\u001b[43m(\u001b[49m\u001b[43m  \u001b[49m\u001b[38;5;66;43;03m# type: ignore[call-overload]\u001b[39;49;00m\n\u001b[1;32m   1218\u001b[0m \u001b[43m    \u001b[49m\u001b[43mf\u001b[49m\u001b[43m,\u001b[49m\n\u001b[1;32m   1219\u001b[0m \u001b[43m    \u001b[49m\u001b[43mmode\u001b[49m\u001b[43m,\u001b[49m\n\u001b[1;32m   1220\u001b[0m \u001b[43m    \u001b[49m\u001b[43mencoding\u001b[49m\u001b[38;5;241;43m=\u001b[39;49m\u001b[38;5;28;43mself\u001b[39;49m\u001b[38;5;241;43m.\u001b[39;49m\u001b[43moptions\u001b[49m\u001b[38;5;241;43m.\u001b[39;49m\u001b[43mget\u001b[49m\u001b[43m(\u001b[49m\u001b[38;5;124;43m\"\u001b[39;49m\u001b[38;5;124;43mencoding\u001b[39;49m\u001b[38;5;124;43m\"\u001b[39;49m\u001b[43m,\u001b[49m\u001b[43m \u001b[49m\u001b[38;5;28;43;01mNone\u001b[39;49;00m\u001b[43m)\u001b[49m\u001b[43m,\u001b[49m\n\u001b[1;32m   1221\u001b[0m \u001b[43m    \u001b[49m\u001b[43mcompression\u001b[49m\u001b[38;5;241;43m=\u001b[39;49m\u001b[38;5;28;43mself\u001b[39;49m\u001b[38;5;241;43m.\u001b[39;49m\u001b[43moptions\u001b[49m\u001b[38;5;241;43m.\u001b[39;49m\u001b[43mget\u001b[49m\u001b[43m(\u001b[49m\u001b[38;5;124;43m\"\u001b[39;49m\u001b[38;5;124;43mcompression\u001b[39;49m\u001b[38;5;124;43m\"\u001b[39;49m\u001b[43m,\u001b[49m\u001b[43m \u001b[49m\u001b[38;5;28;43;01mNone\u001b[39;49;00m\u001b[43m)\u001b[49m\u001b[43m,\u001b[49m\n\u001b[1;32m   1222\u001b[0m \u001b[43m    \u001b[49m\u001b[43mmemory_map\u001b[49m\u001b[38;5;241;43m=\u001b[39;49m\u001b[38;5;28;43mself\u001b[39;49m\u001b[38;5;241;43m.\u001b[39;49m\u001b[43moptions\u001b[49m\u001b[38;5;241;43m.\u001b[39;49m\u001b[43mget\u001b[49m\u001b[43m(\u001b[49m\u001b[38;5;124;43m\"\u001b[39;49m\u001b[38;5;124;43mmemory_map\u001b[39;49m\u001b[38;5;124;43m\"\u001b[39;49m\u001b[43m,\u001b[49m\u001b[43m \u001b[49m\u001b[38;5;28;43;01mFalse\u001b[39;49;00m\u001b[43m)\u001b[49m\u001b[43m,\u001b[49m\n\u001b[1;32m   1223\u001b[0m \u001b[43m    \u001b[49m\u001b[43mis_text\u001b[49m\u001b[38;5;241;43m=\u001b[39;49m\u001b[43mis_text\u001b[49m\u001b[43m,\u001b[49m\n\u001b[1;32m   1224\u001b[0m \u001b[43m    \u001b[49m\u001b[43merrors\u001b[49m\u001b[38;5;241;43m=\u001b[39;49m\u001b[38;5;28;43mself\u001b[39;49m\u001b[38;5;241;43m.\u001b[39;49m\u001b[43moptions\u001b[49m\u001b[38;5;241;43m.\u001b[39;49m\u001b[43mget\u001b[49m\u001b[43m(\u001b[49m\u001b[38;5;124;43m\"\u001b[39;49m\u001b[38;5;124;43mencoding_errors\u001b[39;49m\u001b[38;5;124;43m\"\u001b[39;49m\u001b[43m,\u001b[49m\u001b[43m \u001b[49m\u001b[38;5;124;43m\"\u001b[39;49m\u001b[38;5;124;43mstrict\u001b[39;49m\u001b[38;5;124;43m\"\u001b[39;49m\u001b[43m)\u001b[49m\u001b[43m,\u001b[49m\n\u001b[1;32m   1225\u001b[0m \u001b[43m    \u001b[49m\u001b[43mstorage_options\u001b[49m\u001b[38;5;241;43m=\u001b[39;49m\u001b[38;5;28;43mself\u001b[39;49m\u001b[38;5;241;43m.\u001b[39;49m\u001b[43moptions\u001b[49m\u001b[38;5;241;43m.\u001b[39;49m\u001b[43mget\u001b[49m\u001b[43m(\u001b[49m\u001b[38;5;124;43m\"\u001b[39;49m\u001b[38;5;124;43mstorage_options\u001b[39;49m\u001b[38;5;124;43m\"\u001b[39;49m\u001b[43m,\u001b[49m\u001b[43m \u001b[49m\u001b[38;5;28;43;01mNone\u001b[39;49;00m\u001b[43m)\u001b[49m\u001b[43m,\u001b[49m\n\u001b[1;32m   1226\u001b[0m \u001b[43m\u001b[49m\u001b[43m)\u001b[49m\n\u001b[1;32m   1227\u001b[0m \u001b[38;5;28;01massert\u001b[39;00m \u001b[38;5;28mself\u001b[39m\u001b[38;5;241m.\u001b[39mhandles \u001b[38;5;129;01mis\u001b[39;00m \u001b[38;5;129;01mnot\u001b[39;00m \u001b[38;5;28;01mNone\u001b[39;00m\n\u001b[1;32m   1228\u001b[0m f \u001b[38;5;241m=\u001b[39m \u001b[38;5;28mself\u001b[39m\u001b[38;5;241m.\u001b[39mhandles\u001b[38;5;241m.\u001b[39mhandle\n",
      "File \u001b[0;32m~/anaconda3/lib/python3.9/site-packages/pandas/io/common.py:789\u001b[0m, in \u001b[0;36mget_handle\u001b[0;34m(path_or_buf, mode, encoding, compression, memory_map, is_text, errors, storage_options)\u001b[0m\n\u001b[1;32m    784\u001b[0m \u001b[38;5;28;01melif\u001b[39;00m \u001b[38;5;28misinstance\u001b[39m(handle, \u001b[38;5;28mstr\u001b[39m):\n\u001b[1;32m    785\u001b[0m     \u001b[38;5;66;03m# Check whether the filename is to be opened in binary mode.\u001b[39;00m\n\u001b[1;32m    786\u001b[0m     \u001b[38;5;66;03m# Binary mode does not support 'encoding' and 'newline'.\u001b[39;00m\n\u001b[1;32m    787\u001b[0m     \u001b[38;5;28;01mif\u001b[39;00m ioargs\u001b[38;5;241m.\u001b[39mencoding \u001b[38;5;129;01mand\u001b[39;00m \u001b[38;5;124m\"\u001b[39m\u001b[38;5;124mb\u001b[39m\u001b[38;5;124m\"\u001b[39m \u001b[38;5;129;01mnot\u001b[39;00m \u001b[38;5;129;01min\u001b[39;00m ioargs\u001b[38;5;241m.\u001b[39mmode:\n\u001b[1;32m    788\u001b[0m         \u001b[38;5;66;03m# Encoding\u001b[39;00m\n\u001b[0;32m--> 789\u001b[0m         handle \u001b[38;5;241m=\u001b[39m \u001b[38;5;28;43mopen\u001b[39;49m\u001b[43m(\u001b[49m\n\u001b[1;32m    790\u001b[0m \u001b[43m            \u001b[49m\u001b[43mhandle\u001b[49m\u001b[43m,\u001b[49m\n\u001b[1;32m    791\u001b[0m \u001b[43m            \u001b[49m\u001b[43mioargs\u001b[49m\u001b[38;5;241;43m.\u001b[39;49m\u001b[43mmode\u001b[49m\u001b[43m,\u001b[49m\n\u001b[1;32m    792\u001b[0m \u001b[43m            \u001b[49m\u001b[43mencoding\u001b[49m\u001b[38;5;241;43m=\u001b[39;49m\u001b[43mioargs\u001b[49m\u001b[38;5;241;43m.\u001b[39;49m\u001b[43mencoding\u001b[49m\u001b[43m,\u001b[49m\n\u001b[1;32m    793\u001b[0m \u001b[43m            \u001b[49m\u001b[43merrors\u001b[49m\u001b[38;5;241;43m=\u001b[39;49m\u001b[43merrors\u001b[49m\u001b[43m,\u001b[49m\n\u001b[1;32m    794\u001b[0m \u001b[43m            \u001b[49m\u001b[43mnewline\u001b[49m\u001b[38;5;241;43m=\u001b[39;49m\u001b[38;5;124;43m\"\u001b[39;49m\u001b[38;5;124;43m\"\u001b[39;49m\u001b[43m,\u001b[49m\n\u001b[1;32m    795\u001b[0m \u001b[43m        \u001b[49m\u001b[43m)\u001b[49m\n\u001b[1;32m    796\u001b[0m     \u001b[38;5;28;01melse\u001b[39;00m:\n\u001b[1;32m    797\u001b[0m         \u001b[38;5;66;03m# Binary mode\u001b[39;00m\n\u001b[1;32m    798\u001b[0m         handle \u001b[38;5;241m=\u001b[39m \u001b[38;5;28mopen\u001b[39m(handle, ioargs\u001b[38;5;241m.\u001b[39mmode)\n",
      "\u001b[0;31mFileNotFoundError\u001b[0m: [Errno 2] No such file or directory: './data/yellow_tripdata_2017-12.csv'"
     ]
    }
   ],
   "source": [
    "pd.read_csv('./data/yellow_tripdata_2017-12.csv')"
   ]
  },
  {
   "cell_type": "code",
   "execution_count": null,
   "id": "73d0993b",
   "metadata": {},
   "outputs": [],
   "source": []
  }
 ],
 "metadata": {
  "kernelspec": {
   "display_name": "Python 3 (ipykernel)",
   "language": "python",
   "name": "python3"
  },
  "language_info": {
   "codemirror_mode": {
    "name": "ipython",
    "version": 3
   },
   "file_extension": ".py",
   "mimetype": "text/x-python",
   "name": "python",
   "nbconvert_exporter": "python",
   "pygments_lexer": "ipython3",
   "version": "3.9.12"
  }
 },
 "nbformat": 4,
 "nbformat_minor": 5
}
